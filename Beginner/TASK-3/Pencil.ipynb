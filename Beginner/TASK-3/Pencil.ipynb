{
 "cells": [
  {
   "cell_type": "markdown",
   "id": "bdd38f2f",
   "metadata": {},
   "source": [
    "# Creator-> Sarthak Arora"
   ]
  },
  {
   "cell_type": "code",
   "execution_count": null,
   "id": "8163d3aa",
   "metadata": {},
   "outputs": [],
   "source": [
    "#Beginner level Task"
   ]
  },
  {
   "cell_type": "markdown",
   "id": "7c587848",
   "metadata": {},
   "source": [
    "# Task-3 -> Image to pencil image by importing OpenCV."
   ]
  },
  {
   "cell_type": "code",
   "execution_count": 3,
   "id": "33b2ab58",
   "metadata": {},
   "outputs": [],
   "source": [
    "#Importing important Files."
   ]
  },
  {
   "cell_type": "raw",
   "id": "80f265a1",
   "metadata": {},
   "source": [
    "# For this task i'm using two images, first one is of a bird and second one is of a girl"
   ]
  },
  {
   "cell_type": "code",
   "execution_count": 12,
   "id": "aca9a1c2",
   "metadata": {},
   "outputs": [
    {
     "data": {
      "text/plain": [
       "['C:\\\\Users\\\\saart\\\\LGMVIP\\\\Beginner\\\\TASK-3',\n",
       " 'C:\\\\Users\\\\saart\\\\anaconda3\\\\python310.zip',\n",
       " 'C:\\\\Users\\\\saart\\\\anaconda3\\\\DLLs',\n",
       " 'C:\\\\Users\\\\saart\\\\anaconda3\\\\lib',\n",
       " 'C:\\\\Users\\\\saart\\\\anaconda3',\n",
       " '',\n",
       " 'C:\\\\Users\\\\saart\\\\anaconda3\\\\lib\\\\site-packages',\n",
       " 'C:\\\\Users\\\\saart\\\\anaconda3\\\\lib\\\\site-packages\\\\win32',\n",
       " 'C:\\\\Users\\\\saart\\\\anaconda3\\\\lib\\\\site-packages\\\\win32\\\\lib',\n",
       " 'C:\\\\Users\\\\saart\\\\anaconda3\\\\lib\\\\site-packages\\\\Pythonwin']"
      ]
     },
     "execution_count": 12,
     "metadata": {},
     "output_type": "execute_result"
    }
   ],
   "source": [
    "import os\n",
    "os.sys.path"
   ]
  },
  {
   "cell_type": "code",
   "execution_count": 14,
   "id": "5784d8dc",
   "metadata": {},
   "outputs": [
    {
     "name": "stdout",
     "output_type": "stream",
     "text": [
      "Requirement already satisfied: opencv-python in c:\\users\\saart\\anaconda3\\lib\\site-packages (4.8.0.76)\n",
      "Requirement already satisfied: numpy>=1.21.2 in c:\\users\\saart\\anaconda3\\lib\\site-packages (from opencv-python) (1.23.5)\n",
      "Note: you may need to restart the kernel to use updated packages.\n"
     ]
    }
   ],
   "source": [
    "pip install opencv-python   #needed library."
   ]
  },
  {
   "cell_type": "code",
   "execution_count": 15,
   "id": "4836742d",
   "metadata": {},
   "outputs": [
    {
     "data": {
      "text/plain": [
       "-1"
      ]
     },
     "execution_count": 15,
     "metadata": {},
     "output_type": "execute_result"
    }
   ],
   "source": [
    "import cv2\n",
    "i1 = cv2.imread(\"Beautiful Bird.jpg\")\n",
    "cv2.imshow(\"Beautiful Bird\", i1)\n",
    "cv2.waitKey(0)"
   ]
  },
  {
   "cell_type": "code",
   "execution_count": 16,
   "id": "349dc5e7",
   "metadata": {},
   "outputs": [
    {
     "data": {
      "text/plain": [
       "-1"
      ]
     },
     "execution_count": 16,
     "metadata": {},
     "output_type": "execute_result"
    }
   ],
   "source": [
    "i2 = cv2.imread(\"Baby girl.jfif\")\n",
    "cv2.imshow(\"Beautiful Bird\", i2)\n",
    "cv2.waitKey(0)"
   ]
  },
  {
   "cell_type": "markdown",
   "id": "ccfccd05",
   "metadata": {},
   "source": [
    "# Creating a new image by transforming the original image to greyscale"
   ]
  },
  {
   "cell_type": "code",
   "execution_count": 20,
   "id": "178cf838",
   "metadata": {},
   "outputs": [
    {
     "data": {
      "text/plain": [
       "-1"
      ]
     },
     "execution_count": 20,
     "metadata": {},
     "output_type": "execute_result"
    }
   ],
   "source": [
    "new_gray = cv2.cvtColor(i1, cv2.COLOR_BGR2GRAY)\n",
    "cv2.imshow(\"New UPGRADED Bird\", new_gray)\n",
    "cv2.waitKey(0)"
   ]
  },
  {
   "cell_type": "code",
   "execution_count": 21,
   "id": "8edf4dcd",
   "metadata": {},
   "outputs": [
    {
     "data": {
      "text/plain": [
       "-1"
      ]
     },
     "execution_count": 21,
     "metadata": {},
     "output_type": "execute_result"
    }
   ],
   "source": [
    "new_gray2 = cv2.cvtColor(i2, cv2.COLOR_BGR2GRAY)\n",
    "cv2.imshow(\"New UPDATED girl\", new_gray2)\n",
    "cv2.waitKey(0)"
   ]
  },
  {
   "cell_type": "code",
   "execution_count": 23,
   "id": "e85d95dd",
   "metadata": {},
   "outputs": [
    {
     "data": {
      "text/plain": [
       "-1"
      ]
     },
     "execution_count": 23,
     "metadata": {},
     "output_type": "execute_result"
    }
   ],
   "source": [
    "i_i1 = 255 - new_gray\n",
    "cv2.imshow(\"Reverse\", i_i1)\n",
    "cv2.waitKey()"
   ]
  },
  {
   "cell_type": "code",
   "execution_count": 25,
   "id": "4ec5dec7",
   "metadata": {},
   "outputs": [
    {
     "data": {
      "text/plain": [
       "-1"
      ]
     },
     "execution_count": 25,
     "metadata": {},
     "output_type": "execute_result"
    }
   ],
   "source": [
    "i_i2 = 255 - new_gray2\n",
    "cv2.imshow(\"Reverse\", i_i2)\n",
    "cv2.waitKey()"
   ]
  },
  {
   "cell_type": "code",
   "execution_count": 27,
   "id": "f5173d16",
   "metadata": {},
   "outputs": [],
   "source": [
    "blurred1 = cv2.GaussianBlur(i_i1, (21, 21), 0)"
   ]
  },
  {
   "cell_type": "code",
   "execution_count": 28,
   "id": "4e7b455b",
   "metadata": {},
   "outputs": [],
   "source": [
    "blurred2 = cv2.GaussianBlur(i_i2, (21, 21), 0)"
   ]
  },
  {
   "cell_type": "markdown",
   "id": "f97aa2bc",
   "metadata": {},
   "source": [
    "# PENCIL IMAGE FROM GRAY IMAGE"
   ]
  },
  {
   "cell_type": "code",
   "execution_count": 29,
   "id": "bed0ebcf",
   "metadata": {},
   "outputs": [
    {
     "data": {
      "text/plain": [
       "-1"
      ]
     },
     "execution_count": 29,
     "metadata": {},
     "output_type": "execute_result"
    }
   ],
   "source": [
    "i_blurred1 = 255 - blurred1\n",
    "pencil_sketch1 = cv2.divide(new_gray, i_blurred1, scale=256.0)\n",
    "cv2.imshow(\"Sketch1\", pencil_sketch1)\n",
    "cv2.waitKey(0)"
   ]
  },
  {
   "cell_type": "code",
   "execution_count": 30,
   "id": "0ffbb73d",
   "metadata": {},
   "outputs": [
    {
     "data": {
      "text/plain": [
       "-1"
      ]
     },
     "execution_count": 30,
     "metadata": {},
     "output_type": "execute_result"
    }
   ],
   "source": [
    "i_blurred2 = 255 - blurred2\n",
    "pencil_sketch2 = cv2.divide(new_gray2, i_blurred2, scale=256.0)\n",
    "cv2.imshow(\"Sketch2\", pencil_sketch2)\n",
    "cv2.waitKey(0)"
   ]
  },
  {
   "cell_type": "code",
   "execution_count": 34,
   "id": "5827fec8",
   "metadata": {},
   "outputs": [
    {
     "data": {
      "text/plain": [
       "-1"
      ]
     },
     "execution_count": 34,
     "metadata": {},
     "output_type": "execute_result"
    }
   ],
   "source": [
    "cv2.imshow(\"original image\", i1)\n",
    "cv2.imshow(\"pencil sketch1\", pencil_sketch1)\n",
    "cv2.waitKey(0)\n",
    "cv2.imshow(\"original image1\", i2)\n",
    "cv2.imshow(\"pencil sketch1\", pencil_sketch2)\n",
    "cv2.waitKey(0)"
   ]
  }
 ],
 "metadata": {
  "kernelspec": {
   "display_name": "Python 3 (ipykernel)",
   "language": "python",
   "name": "python3"
  },
  "language_info": {
   "codemirror_mode": {
    "name": "ipython",
    "version": 3
   },
   "file_extension": ".py",
   "mimetype": "text/x-python",
   "name": "python",
   "nbconvert_exporter": "python",
   "pygments_lexer": "ipython3",
   "version": "3.10.9"
  }
 },
 "nbformat": 4,
 "nbformat_minor": 5
}
