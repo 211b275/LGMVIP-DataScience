{
 "cells": [
  {
   "cell_type": "markdown",
   "id": "b6493942",
   "metadata": {},
   "source": [
    "# CREATOR-> SARTHAK ARORA"
   ]
  },
  {
   "cell_type": "markdown",
   "id": "ed211ab2",
   "metadata": {},
   "source": [
    "# TASK->8 = NEXT_WORD_PREDICTOR"
   ]
  },
  {
   "cell_type": "markdown",
   "id": "b915f1f8",
   "metadata": {},
   "source": [
    "Dataset link-> https://drive.google.com/file/d/1GeUzNVqiixXHnTl8oNiQ2W3CynX_lsu2/view"
   ]
  },
  {
   "cell_type": "code",
   "execution_count": null,
   "id": "3434ed4f",
   "metadata": {},
   "outputs": [],
   "source": [
    "#Importing tensorflow and keras for RNN model."
   ]
  },
  {
   "cell_type": "code",
   "execution_count": 1,
   "id": "a67c3402",
   "metadata": {},
   "outputs": [],
   "source": [
    "#Importing packages\n",
    "import numpy as np\n",
    "import tensorflow as tf\n",
    "from tensorflow.keras.models import Sequential, load_model\n",
    "from tensorflow.keras.layers import Dense, Activation\n",
    "from tensorflow.keras.layers import LSTM, Dropout\n",
    "from tensorflow.keras.layers import TimeDistributed\n",
    "from tensorflow.keras.layers import Dense, Activation, Dropout, RepeatVector\n",
    "from tensorflow.keras.optimizers import RMSprop\n",
    "import matplotlib.pyplot as plt\n",
    "import pickle\n",
    "import heapq"
   ]
  },
  {
   "cell_type": "code",
   "execution_count": 22,
   "id": "ced2bc4f",
   "metadata": {},
   "outputs": [
    {
     "name": "stdout",
     "output_type": "stream",
     "text": [
      "Length: 581888\n"
     ]
    }
   ],
   "source": [
    "paath = \"C:\\\\Users\\\\saart\\\\OneDrive\\\\Desktop\\\\Astram\\\\LGMVIP\\\\Advanced\\\\TASK-8\\\\sample text\\\\1661-0.txt\"\n",
    "t = open(paath,encoding = \"utf8\").read()\n",
    "print('Length:', len(t))"
   ]
  },
  {
   "cell_type": "code",
   "execution_count": 9,
   "id": "95ae7659",
   "metadata": {},
   "outputs": [
    {
     "name": "stdout",
     "output_type": "stream",
     "text": [
      "Unique: 73\n"
     ]
    }
   ],
   "source": [
    "ch = sorted(list(set(t)))\n",
    "char = dict((c, i) for i, c in enumerate(ch))\n",
    "indices = dict((i, c) for i, c in enumerate(ch))\n",
    "print(f'Unique: {len(ch)}')"
   ]
  },
  {
   "cell_type": "code",
   "execution_count": 11,
   "id": "e5504a5e",
   "metadata": {},
   "outputs": [
    {
     "name": "stdout",
     "output_type": "stream",
     "text": [
      "Number training : 145460\n"
     ]
    }
   ],
   "source": [
    "seq_len = 50\n",
    "step = 4\n",
    "sentences = []\n",
    "next = []\n",
    "for i in range(0, len(t) - seq_len, step):\n",
    "    sentences.append(t[i: i + seq_len ])\n",
    "    next.append(t[i + seq_len])\n",
    "print(f'Number training : {len(sentences)}')"
   ]
  },
  {
   "cell_type": "code",
   "execution_count": 17,
   "id": "21df724b",
   "metadata": {},
   "outputs": [
    {
     "name": "stderr",
     "output_type": "stream",
     "text": [
      "C:\\Users\\saart\\AppData\\Local\\Temp\\ipykernel_5156\\2265201287.py:1: DeprecationWarning: `np.bool` is a deprecated alias for the builtin `bool`. To silence this warning, use `bool` by itself. Doing this will not modify any behavior and is safe. If you specifically wanted the numpy scalar type, use `np.bool_` here.\n",
      "Deprecated in NumPy 1.20; for more details and guidance: https://numpy.org/devdocs/release/1.20.0-notes.html#deprecations\n",
      "  X = np.zeros((len(sentences), seq_len, len(ch)), dtype=np.bool)\n",
      "C:\\Users\\saart\\AppData\\Local\\Temp\\ipykernel_5156\\2265201287.py:2: DeprecationWarning: `np.bool` is a deprecated alias for the builtin `bool`. To silence this warning, use `bool` by itself. Doing this will not modify any behavior and is safe. If you specifically wanted the numpy scalar type, use `np.bool_` here.\n",
      "Deprecated in NumPy 1.20; for more details and guidance: https://numpy.org/devdocs/release/1.20.0-notes.html#deprecations\n",
      "  y = np.zeros((len(sentences), len(ch)), dtype=np.bool)\n"
     ]
    },
    {
     "ename": "TypeError",
     "evalue": "string indices must be integers",
     "output_type": "error",
     "traceback": [
      "\u001b[1;31m---------------------------------------------------------------------------\u001b[0m",
      "\u001b[1;31mTypeError\u001b[0m                                 Traceback (most recent call last)",
      "Cell \u001b[1;32mIn[17], line 5\u001b[0m\n\u001b[0;32m      3\u001b[0m \u001b[38;5;28;01mfor\u001b[39;00m i, sentence \u001b[38;5;129;01min\u001b[39;00m \u001b[38;5;28menumerate\u001b[39m(sentences):\n\u001b[0;32m      4\u001b[0m     \u001b[38;5;28;01mfor\u001b[39;00m t, char \u001b[38;5;129;01min\u001b[39;00m \u001b[38;5;28menumerate\u001b[39m(sentence):\n\u001b[1;32m----> 5\u001b[0m         X[i, t, \u001b[43mchar\u001b[49m\u001b[43m[\u001b[49m\u001b[43mchar\u001b[49m\u001b[43m]\u001b[49m] \u001b[38;5;241m=\u001b[39m \u001b[38;5;241m1\u001b[39m\n\u001b[0;32m      6\u001b[0m     y[i, char[\u001b[38;5;28mnext\u001b[39m[i]]] \u001b[38;5;241m=\u001b[39m \u001b[38;5;241m1\u001b[39m\n\u001b[0;32m      7\u001b[0m sentences[\u001b[38;5;241m110\u001b[39m]\n",
      "\u001b[1;31mTypeError\u001b[0m: string indices must be integers"
     ]
    }
   ],
   "source": [
    "X = np.zeros((len(sentences), seq_len, len(ch)), dtype=np.bool)\n",
    "y = np.zeros((len(sentences), len(ch)), dtype=np.bool)\n",
    "for i, sentence in enumerate(sentences):\n",
    "    for t, char in enumerate(sentence):\n",
    "        X[i, t, char[char]] = 1\n",
    "    y[i, char[next[i]]] = 1\n",
    "sentences[110]\n",
    "next_chars[90]"
   ]
  },
  {
   "cell_type": "code",
   "execution_count": 13,
   "id": "ed1b135b",
   "metadata": {},
   "outputs": [
    {
     "data": {
      "text/plain": [
       "(145460, 73)"
      ]
     },
     "execution_count": 13,
     "metadata": {},
     "output_type": "execute_result"
    }
   ],
   "source": [
    "X[0][0]\n",
    "y[0]\n",
    "X.shape\n",
    "y.shape"
   ]
  },
  {
   "cell_type": "code",
   "execution_count": 16,
   "id": "ea53edc0",
   "metadata": {},
   "outputs": [],
   "source": [
    "model = Sequential()\n",
    "model.add(LSTM(130, input_shape=(seq_len, len(ch))))\n",
    "model.add(Dense(len(ch)))\n",
    "model.add(Activation('softmax'))"
   ]
  },
  {
   "cell_type": "code",
   "execution_count": 18,
   "id": "ddabaaf6",
   "metadata": {},
   "outputs": [
    {
     "name": "stdout",
     "output_type": "stream",
     "text": [
      "Model: \"sequential_2\"\n",
      "_________________________________________________________________\n",
      " Layer (type)                Output Shape              Param #   \n",
      "=================================================================\n",
      " lstm_2 (LSTM)               (None, 130)               106080    \n",
      "                                                                 \n",
      " dense_2 (Dense)             (None, 73)                9563      \n",
      "                                                                 \n",
      " activation_2 (Activation)   (None, 73)                0         \n",
      "                                                                 \n",
      "=================================================================\n",
      "Total params: 115,643\n",
      "Trainable params: 115,643\n",
      "Non-trainable params: 0\n",
      "_________________________________________________________________\n"
     ]
    }
   ],
   "source": [
    "model.summary()"
   ]
  },
  {
   "cell_type": "code",
   "execution_count": 19,
   "id": "f61e33f4",
   "metadata": {},
   "outputs": [
    {
     "name": "stdout",
     "output_type": "stream",
     "text": [
      "Epoch 1/4\n",
      "1097/1097 [==============================] - 126s 111ms/step - loss: 0.0000e+00 - accuracy: 9.1196e-04 - val_loss: 0.0000e+00 - val_accuracy: 0.0000e+00\n",
      "Epoch 2/4\n",
      "1097/1097 [==============================] - 116s 106ms/step - loss: 0.0000e+00 - accuracy: 0.0000e+00 - val_loss: 0.0000e+00 - val_accuracy: 0.0000e+00\n",
      "Epoch 3/4\n",
      "1097/1097 [==============================] - 108s 98ms/step - loss: 0.0000e+00 - accuracy: 0.0000e+00 - val_loss: 0.0000e+00 - val_accuracy: 0.0000e+00\n",
      "Epoch 4/4\n",
      "1097/1097 [==============================] - 116s 105ms/step - loss: 0.0000e+00 - accuracy: 0.0000e+00 - val_loss: 0.0000e+00 - val_accuracy: 0.0000e+00\n"
     ]
    }
   ],
   "source": [
    "# Training our model\n",
    "optimizer = RMSprop(learning_rate=0.02)\n",
    "model.compile(loss='categorical_crossentropy', optimizer=optimizer, metrics=['accuracy'])\n",
    "history = model.fit(X, y, validation_split=0.02, batch_size=130, epochs=4, shuffle=True).history"
   ]
  },
  {
   "cell_type": "code",
   "execution_count": 23,
   "id": "3f170e2a",
   "metadata": {},
   "outputs": [],
   "source": [
    "#saving our model\n",
    "model.save('NW_keras_model.h5')\n",
    "pickle.dump(history, open(\"history.p\", \"wb\"))"
   ]
  },
  {
   "cell_type": "code",
   "execution_count": 24,
   "id": "36cdfdba",
   "metadata": {},
   "outputs": [],
   "source": [
    "#model loading\n",
    "model = load_model('NW_keras_model.h5')\n",
    "his = pickle.load(open(\"history.p\",\"rb\"))"
   ]
  },
  {
   "cell_type": "code",
   "execution_count": 25,
   "id": "6c92b5d3",
   "metadata": {},
   "outputs": [
    {
     "name": "stdout",
     "output_type": "stream",
     "text": [
      "4546/4546 [==============================] - 76s 17ms/step - loss: 0.0000e+00 - accuracy: 0.0000e+00\n",
      "Loss-Testing 0.0\n",
      "Accuracy-Testing 0.0\n"
     ]
    }
   ],
   "source": [
    "#Model Evaluation\n",
    "loss = model.evaluate(X,y)\n",
    "print(\"Loss-Testing\", loss[0])\n",
    "print(\"Accuracy-Testing\", loss[1])"
   ]
  },
  {
   "cell_type": "code",
   "execution_count": 33,
   "id": "a4156ac9",
   "metadata": {},
   "outputs": [
    {
     "data": {
      "image/png": "[encoded data removed]",
      "text/plain": [
       "<Figure size 2600x900 with 2 Axes>"
      ]
     },
     "metadata": {},
     "output_type": "display_data"
    }
   ],
   "source": [
    "acc = history['accuracy']\n",
    "val_acc = history['val_accuracy']\n",
    "loss = history['loss']\n",
    "val_loss = history['val_loss']\n",
    "epochs = range(len(acc))\n",
    "fig, ax = plt.subplots(nrows=2, ncols=1, figsize=(26, 9))\n",
    "ax[0].plot(epochs, acc, 'y', label='Training accuracy')\n",
    "ax[0].plot(epochs, val_acc, 'g', label='Validation accuracy')\n",
    "ax[0].legend(loc=0)\n",
    "ax[1].plot(epochs, loss, 'y', label='Training loss')\n",
    "ax[1].plot(epochs, val_loss, 'g', label='Validation loss')\n",
    "ax[1].legend(loc=0)\n",
    "plt.suptitle('Training and validation')\n",
    "plt.show()"
   ]
  },
  {
   "cell_type": "code",
   "execution_count": 28,
   "id": "151bee60",
   "metadata": {},
   "outputs": [],
   "source": [
    "#PREDICTION\n",
    "quotes = [   \n",
    "    \"Deep learning is subset of machine learning,which is essentially a neural network with three or more layers.\",\n",
    "    \"Machine learning  is the study of computer algorithms that improve automatically through experience and by the use of data.\",\n",
    "    \"It is not a lack of love, but a lack of friendship that makes unhappy marriages.\",\n",
    "    \"Recurrent neural network (RNN) is a type of artificial neural network which uses sequential data or time series data.\",\n",
    "    \"Thanks for spending your precious time to view my work.\"    \n",
    "]"
   ]
  },
  {
   "cell_type": "code",
   "execution_count": 34,
   "id": "2eb81712",
   "metadata": {},
   "outputs": [
    {
     "name": "stdout",
     "output_type": "stream",
     "text": [
      "Deep learn\n",
      "\n",
      "Machine le\n",
      "\n",
      "It is not \n",
      "\n",
      "Recurrent \n",
      "\n",
      "Thanks for\n",
      "\n"
     ]
    }
   ],
   "source": [
    "for q in quotes:\n",
    "    seq = q[:10]\n",
    "    print(seq)\n",
    "    print()"
   ]
  }
 ],
 "metadata": {
  "kernelspec": {
   "display_name": "Python 3 (ipykernel)",
   "language": "python",
   "name": "python3"
  },
  "language_info": {
   "codemirror_mode": {
    "name": "ipython",
    "version": 3
   },
   "file_extension": ".py",
   "mimetype": "text/x-python",
   "name": "python",
   "nbconvert_exporter": "python",
   "pygments_lexer": "ipython3",
   "version": "3.10.9"
  }
 },
 "nbformat": 4,
 "nbformat_minor": 5
}
